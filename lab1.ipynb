{
 "cells": [
  {
   "attachments": {},
   "cell_type": "markdown",
   "metadata": {},
   "source": [
    "# Laboratorio 1\n",
    "#### Universidad del Valle de Guatemala\n",
    "#### CC3094 - Security Data Science\n",
    "#### Julio Herrera 19402\n",
    "#### Diego Arredondo 19422"
   ]
  },
  {
   "cell_type": "code",
   "execution_count": 1,
   "metadata": {},
   "outputs": [],
   "source": [
    "import pandas as pd\n",
    "from urllib.parse import urlparse # for parsing URLs\n",
    "from pandas_profiling import ProfileReport # for generating reports"
   ]
  },
  {
   "attachments": {},
   "cell_type": "markdown",
   "metadata": {},
   "source": [
    "Cargando el dataset y mostrando 5 observaciones"
   ]
  },
  {
   "cell_type": "code",
   "execution_count": 2,
   "metadata": {},
   "outputs": [
    {
     "data": {
      "text/html": [
       "<div>\n",
       "<style scoped>\n",
       "    .dataframe tbody tr th:only-of-type {\n",
       "        vertical-align: middle;\n",
       "    }\n",
       "\n",
       "    .dataframe tbody tr th {\n",
       "        vertical-align: top;\n",
       "    }\n",
       "\n",
       "    .dataframe thead th {\n",
       "        text-align: right;\n",
       "    }\n",
       "</style>\n",
       "<table border=\"1\" class=\"dataframe\">\n",
       "  <thead>\n",
       "    <tr style=\"text-align: right;\">\n",
       "      <th></th>\n",
       "      <th>url</th>\n",
       "      <th>ip</th>\n",
       "      <th>nb_www</th>\n",
       "      <th>nb_com</th>\n",
       "      <th>nb_dslash</th>\n",
       "      <th>http_in_path</th>\n",
       "      <th>punycode</th>\n",
       "      <th>port</th>\n",
       "      <th>tld_in_path</th>\n",
       "      <th>tld_in_subdomain</th>\n",
       "      <th>...</th>\n",
       "      <th>domain_in_title</th>\n",
       "      <th>domain_with_copyright</th>\n",
       "      <th>whois_registered_domain</th>\n",
       "      <th>domain_registration_length</th>\n",
       "      <th>domain_age</th>\n",
       "      <th>web_traffic</th>\n",
       "      <th>dns_record</th>\n",
       "      <th>google_index</th>\n",
       "      <th>page_rank</th>\n",
       "      <th>status</th>\n",
       "    </tr>\n",
       "  </thead>\n",
       "  <tbody>\n",
       "    <tr>\n",
       "      <th>0</th>\n",
       "      <td>http://www.crestonwood.com/router.php</td>\n",
       "      <td>0</td>\n",
       "      <td>1</td>\n",
       "      <td>0</td>\n",
       "      <td>0</td>\n",
       "      <td>0</td>\n",
       "      <td>0</td>\n",
       "      <td>0</td>\n",
       "      <td>0</td>\n",
       "      <td>0</td>\n",
       "      <td>...</td>\n",
       "      <td>0</td>\n",
       "      <td>1</td>\n",
       "      <td>0</td>\n",
       "      <td>45</td>\n",
       "      <td>-1</td>\n",
       "      <td>0</td>\n",
       "      <td>1</td>\n",
       "      <td>1</td>\n",
       "      <td>4</td>\n",
       "      <td>legitimate</td>\n",
       "    </tr>\n",
       "    <tr>\n",
       "      <th>1</th>\n",
       "      <td>http://shadetreetechnology.com/V4/validation/a...</td>\n",
       "      <td>1</td>\n",
       "      <td>0</td>\n",
       "      <td>0</td>\n",
       "      <td>0</td>\n",
       "      <td>0</td>\n",
       "      <td>0</td>\n",
       "      <td>0</td>\n",
       "      <td>0</td>\n",
       "      <td>0</td>\n",
       "      <td>...</td>\n",
       "      <td>1</td>\n",
       "      <td>0</td>\n",
       "      <td>0</td>\n",
       "      <td>77</td>\n",
       "      <td>5767</td>\n",
       "      <td>0</td>\n",
       "      <td>0</td>\n",
       "      <td>1</td>\n",
       "      <td>2</td>\n",
       "      <td>phishing</td>\n",
       "    </tr>\n",
       "    <tr>\n",
       "      <th>2</th>\n",
       "      <td>https://support-appleld.com.secureupdate.duila...</td>\n",
       "      <td>1</td>\n",
       "      <td>0</td>\n",
       "      <td>1</td>\n",
       "      <td>0</td>\n",
       "      <td>0</td>\n",
       "      <td>0</td>\n",
       "      <td>0</td>\n",
       "      <td>0</td>\n",
       "      <td>1</td>\n",
       "      <td>...</td>\n",
       "      <td>1</td>\n",
       "      <td>0</td>\n",
       "      <td>0</td>\n",
       "      <td>14</td>\n",
       "      <td>4004</td>\n",
       "      <td>5828815</td>\n",
       "      <td>0</td>\n",
       "      <td>1</td>\n",
       "      <td>0</td>\n",
       "      <td>phishing</td>\n",
       "    </tr>\n",
       "    <tr>\n",
       "      <th>3</th>\n",
       "      <td>http://rgipt.ac.in</td>\n",
       "      <td>0</td>\n",
       "      <td>0</td>\n",
       "      <td>0</td>\n",
       "      <td>0</td>\n",
       "      <td>0</td>\n",
       "      <td>0</td>\n",
       "      <td>0</td>\n",
       "      <td>0</td>\n",
       "      <td>0</td>\n",
       "      <td>...</td>\n",
       "      <td>1</td>\n",
       "      <td>0</td>\n",
       "      <td>0</td>\n",
       "      <td>62</td>\n",
       "      <td>-1</td>\n",
       "      <td>107721</td>\n",
       "      <td>0</td>\n",
       "      <td>0</td>\n",
       "      <td>3</td>\n",
       "      <td>legitimate</td>\n",
       "    </tr>\n",
       "    <tr>\n",
       "      <th>4</th>\n",
       "      <td>http://www.iracing.com/tracks/gateway-motorspo...</td>\n",
       "      <td>0</td>\n",
       "      <td>1</td>\n",
       "      <td>0</td>\n",
       "      <td>0</td>\n",
       "      <td>0</td>\n",
       "      <td>0</td>\n",
       "      <td>0</td>\n",
       "      <td>0</td>\n",
       "      <td>0</td>\n",
       "      <td>...</td>\n",
       "      <td>0</td>\n",
       "      <td>1</td>\n",
       "      <td>0</td>\n",
       "      <td>224</td>\n",
       "      <td>8175</td>\n",
       "      <td>8725</td>\n",
       "      <td>0</td>\n",
       "      <td>0</td>\n",
       "      <td>6</td>\n",
       "      <td>legitimate</td>\n",
       "    </tr>\n",
       "  </tbody>\n",
       "</table>\n",
       "<p>5 rows × 67 columns</p>\n",
       "</div>"
      ],
      "text/plain": [
       "                                                 url  ip  nb_www  nb_com  \\\n",
       "0              http://www.crestonwood.com/router.php   0       1       0   \n",
       "1  http://shadetreetechnology.com/V4/validation/a...   1       0       0   \n",
       "2  https://support-appleld.com.secureupdate.duila...   1       0       1   \n",
       "3                                 http://rgipt.ac.in   0       0       0   \n",
       "4  http://www.iracing.com/tracks/gateway-motorspo...   0       1       0   \n",
       "\n",
       "   nb_dslash  http_in_path  punycode  port  tld_in_path  tld_in_subdomain  \\\n",
       "0          0             0         0     0            0                 0   \n",
       "1          0             0         0     0            0                 0   \n",
       "2          0             0         0     0            0                 1   \n",
       "3          0             0         0     0            0                 0   \n",
       "4          0             0         0     0            0                 0   \n",
       "\n",
       "   ...  domain_in_title  domain_with_copyright  whois_registered_domain  \\\n",
       "0  ...                0                      1                        0   \n",
       "1  ...                1                      0                        0   \n",
       "2  ...                1                      0                        0   \n",
       "3  ...                1                      0                        0   \n",
       "4  ...                0                      1                        0   \n",
       "\n",
       "   domain_registration_length  domain_age  web_traffic  dns_record  \\\n",
       "0                          45          -1            0           1   \n",
       "1                          77        5767            0           0   \n",
       "2                          14        4004      5828815           0   \n",
       "3                          62          -1       107721           0   \n",
       "4                         224        8175         8725           0   \n",
       "\n",
       "   google_index  page_rank      status  \n",
       "0             1          4  legitimate  \n",
       "1             1          2    phishing  \n",
       "2             1          0    phishing  \n",
       "3             0          3  legitimate  \n",
       "4             0          6  legitimate  \n",
       "\n",
       "[5 rows x 67 columns]"
      ]
     },
     "execution_count": 2,
     "metadata": {},
     "output_type": "execute_result"
    }
   ],
   "source": [
    "data = pd.read_csv('dataset_pishing.csv')\n",
    "data.head()"
   ]
  },
  {
   "attachments": {},
   "cell_type": "markdown",
   "metadata": {},
   "source": [
    "## Exploracion de datos"
   ]
  },
  {
   "attachments": {},
   "cell_type": "markdown",
   "metadata": {},
   "source": [
    "Cantidad de observaciones \"legitimate\""
   ]
  },
  {
   "cell_type": "code",
   "execution_count": 3,
   "metadata": {},
   "outputs": [
    {
     "data": {
      "text/plain": [
       "(5715, 67)"
      ]
     },
     "execution_count": 3,
     "metadata": {},
     "output_type": "execute_result"
    }
   ],
   "source": [
    "data[data['status'] == 'legitimate'].shape"
   ]
  },
  {
   "attachments": {},
   "cell_type": "markdown",
   "metadata": {},
   "source": [
    "Cantidad de observaciones \"phishing\""
   ]
  },
  {
   "cell_type": "code",
   "execution_count": 4,
   "metadata": {},
   "outputs": [
    {
     "data": {
      "text/plain": [
       "(5715, 67)"
      ]
     },
     "execution_count": 4,
     "metadata": {},
     "output_type": "execute_result"
    }
   ],
   "source": [
    "data[data['status'] == 'phishing'].shape"
   ]
  },
  {
   "attachments": {},
   "cell_type": "markdown",
   "metadata": {},
   "source": [
    "Existe la misma cantidad de observaciones con status 'legitimate' y 'phishing' (5715) por lo que el dataset se encuentra balanceado."
   ]
  },
  {
   "attachments": {},
   "cell_type": "markdown",
   "metadata": {},
   "source": [
    "## Derivacion de caracteristicas"
   ]
  },
  {
   "attachments": {},
   "cell_type": "markdown",
   "metadata": {},
   "source": [
    "Derivando las caracteristicas f1, f2, f4 – f20, f25, f26 y f27 en base al paper “Towards Benchmark Datasets for ML Based Wensite Phishing Detection: An\n",
    "Experimental Study”"
   ]
  },
  {
   "cell_type": "code",
   "execution_count": 5,
   "metadata": {},
   "outputs": [],
   "source": [
    "def f1_url_length(url):\n",
    "    return len(url)\n",
    "\n",
    "def f2_hostname_length(url):\n",
    "    return len(urlparse(url).netloc)\n",
    "\n",
    "def f4_number_of_dots(url):\n",
    "    return url.count('.')\n",
    "\n",
    "def f5_number_of_hyphens(url):\n",
    "    return url.count('-')\n",
    "\n",
    "def f6_number_of_at(url):\n",
    "    return url.count('@')\n",
    "\n",
    "def f7_number_of_question_mark(url):\n",
    "    return url.count('?')\n",
    "\n",
    "def f8_number_of_ampersand(url):\n",
    "    return url.count('&')\n",
    "\n",
    "def f9_number_of_bar(url):\n",
    "    return url.count('|')\n",
    "\n",
    "def f10_number_of_equal(url):\n",
    "    return url.count('=')\n",
    "\n",
    "def f11_number_of_underline(url):\n",
    "    return url.count('_')\n",
    "\n",
    "def f12_number_of_tilde(url):\n",
    "    return url.count('~')\n",
    "\n",
    "def f13_number_of_percent(url):\n",
    "    return url.count('%')\n",
    "\n",
    "def f14_number_of_slash(url):\n",
    "    return url.count('/')\n",
    "\n",
    "def f15_number_of_ast(url):\n",
    "    return url.count('*')\n",
    "\n",
    "def f16_number_of_colon(url):\n",
    "    return url.count(':')\n",
    "\n",
    "def f17_number_of_comma(url):\n",
    "    return url.count(',')\n",
    "\n",
    "def f18_number_of_semicolon(url):\n",
    "    return url.count(';')\n",
    "\n",
    "def f19_number_of_dollar(url):\n",
    "    return url.count('$')\n",
    "\n",
    "def f20_number_of_space(url):\n",
    "    return url.count(' ') or url.count('%20')\n",
    "\n",
    "def f25_has_https(url):\n",
    "    return 1 if url.startswith('https') else 0\n",
    "\n",
    "def f26_ratio_of_digits_url(url):\n",
    "    digits = sum(c.isdigit() for c in url)\n",
    "    return digits / len(url)\n",
    "\n",
    "def f27_ratio_of_digits_hostname(url):\n",
    "    hostname = urlparse(url).netloc\n",
    "    digits = sum(c.isdigit() for c in hostname)\n",
    "    return digits / len(hostname)\n",
    "\n",
    "data['f1_url_length'] = data['url'].apply(f1_url_length)\n",
    "data['f2_hostname_length'] = data['url'].apply(f2_hostname_length)\n",
    "data['f4_number_of_dots'] = data['url'].apply(f4_number_of_dots)\n",
    "data['f5_number_of_hyphens'] = data['url'].apply(f5_number_of_hyphens)\n",
    "data['f6_number_of_at'] = data['url'].apply(f6_number_of_at)\n",
    "data['f7_number_of_question_mark'] = data['url'].apply(f7_number_of_question_mark)\n",
    "data['f8_number_of_ampersand'] = data['url'].apply(f8_number_of_ampersand)\n",
    "data['f9_number_of_bar'] = data['url'].apply(f9_number_of_bar)\n",
    "data['f10_number_of_equal'] = data['url'].apply(f10_number_of_equal)\n",
    "data['f11_number_of_underline'] = data['url'].apply(f11_number_of_underline)\n",
    "data['f12_number_of_tilde'] = data['url'].apply(f12_number_of_tilde)\n",
    "data['f13_number_of_percent'] = data['url'].apply(f13_number_of_percent)\n",
    "data['f14_number_of_slash'] = data['url'].apply(f14_number_of_slash)\n",
    "data['f15_number_of_ast'] = data['url'].apply(f15_number_of_ast)\n",
    "data['f16_number_of_colon'] = data['url'].apply(f16_number_of_colon)\n",
    "data['f17_number_of_comma'] = data['url'].apply(f17_number_of_comma)\n",
    "data['f18_number_of_semicolon'] = data['url'].apply(f18_number_of_semicolon)\n",
    "data['f19_number_of_dollar'] = data['url'].apply(f19_number_of_dollar)\n",
    "data['f20_number_of_space'] = data['url'].apply(f20_number_of_space)\n",
    "data['f25_has_https'] = data['url'].apply(f25_has_https)\n",
    "data['f26_ratio_of_digits_url'] = data['url'].apply(f26_ratio_of_digits_url)\n",
    "data['f27_ratio_of_digits_hostname'] = data['url'].apply(f27_ratio_of_digits_hostname)"
   ]
  },
  {
   "attachments": {},
   "cell_type": "markdown",
   "metadata": {},
   "source": [
    "Mostrando el resultado de las nuevas columnas de derivacion de caracteristicas"
   ]
  },
  {
   "cell_type": "code",
   "execution_count": 6,
   "metadata": {},
   "outputs": [
    {
     "data": {
      "text/html": [
       "<div>\n",
       "<style scoped>\n",
       "    .dataframe tbody tr th:only-of-type {\n",
       "        vertical-align: middle;\n",
       "    }\n",
       "\n",
       "    .dataframe tbody tr th {\n",
       "        vertical-align: top;\n",
       "    }\n",
       "\n",
       "    .dataframe thead th {\n",
       "        text-align: right;\n",
       "    }\n",
       "</style>\n",
       "<table border=\"1\" class=\"dataframe\">\n",
       "  <thead>\n",
       "    <tr style=\"text-align: right;\">\n",
       "      <th></th>\n",
       "      <th>url</th>\n",
       "      <th>f1_url_length</th>\n",
       "      <th>f2_hostname_length</th>\n",
       "      <th>f4_number_of_dots</th>\n",
       "      <th>f5_number_of_hyphens</th>\n",
       "      <th>f6_number_of_at</th>\n",
       "      <th>f7_number_of_question_mark</th>\n",
       "      <th>f8_number_of_ampersand</th>\n",
       "      <th>f9_number_of_bar</th>\n",
       "      <th>f10_number_of_equal</th>\n",
       "      <th>...</th>\n",
       "      <th>f14_number_of_slash</th>\n",
       "      <th>f15_number_of_ast</th>\n",
       "      <th>f16_number_of_colon</th>\n",
       "      <th>f17_number_of_comma</th>\n",
       "      <th>f18_number_of_semicolon</th>\n",
       "      <th>f19_number_of_dollar</th>\n",
       "      <th>f20_number_of_space</th>\n",
       "      <th>f25_has_https</th>\n",
       "      <th>f26_ratio_of_digits_url</th>\n",
       "      <th>f27_ratio_of_digits_hostname</th>\n",
       "    </tr>\n",
       "  </thead>\n",
       "  <tbody>\n",
       "    <tr>\n",
       "      <th>0</th>\n",
       "      <td>http://www.crestonwood.com/router.php</td>\n",
       "      <td>37</td>\n",
       "      <td>19</td>\n",
       "      <td>3</td>\n",
       "      <td>0</td>\n",
       "      <td>0</td>\n",
       "      <td>0</td>\n",
       "      <td>0</td>\n",
       "      <td>0</td>\n",
       "      <td>0</td>\n",
       "      <td>...</td>\n",
       "      <td>3</td>\n",
       "      <td>0</td>\n",
       "      <td>1</td>\n",
       "      <td>0</td>\n",
       "      <td>0</td>\n",
       "      <td>0</td>\n",
       "      <td>0</td>\n",
       "      <td>0</td>\n",
       "      <td>0.000000</td>\n",
       "      <td>0.0</td>\n",
       "    </tr>\n",
       "    <tr>\n",
       "      <th>1</th>\n",
       "      <td>http://shadetreetechnology.com/V4/validation/a...</td>\n",
       "      <td>77</td>\n",
       "      <td>23</td>\n",
       "      <td>1</td>\n",
       "      <td>0</td>\n",
       "      <td>0</td>\n",
       "      <td>0</td>\n",
       "      <td>0</td>\n",
       "      <td>0</td>\n",
       "      <td>0</td>\n",
       "      <td>...</td>\n",
       "      <td>5</td>\n",
       "      <td>0</td>\n",
       "      <td>1</td>\n",
       "      <td>0</td>\n",
       "      <td>0</td>\n",
       "      <td>0</td>\n",
       "      <td>0</td>\n",
       "      <td>0</td>\n",
       "      <td>0.220779</td>\n",
       "      <td>0.0</td>\n",
       "    </tr>\n",
       "    <tr>\n",
       "      <th>2</th>\n",
       "      <td>https://support-appleld.com.secureupdate.duila...</td>\n",
       "      <td>126</td>\n",
       "      <td>50</td>\n",
       "      <td>4</td>\n",
       "      <td>1</td>\n",
       "      <td>0</td>\n",
       "      <td>1</td>\n",
       "      <td>2</td>\n",
       "      <td>0</td>\n",
       "      <td>3</td>\n",
       "      <td>...</td>\n",
       "      <td>5</td>\n",
       "      <td>0</td>\n",
       "      <td>1</td>\n",
       "      <td>0</td>\n",
       "      <td>0</td>\n",
       "      <td>0</td>\n",
       "      <td>0</td>\n",
       "      <td>1</td>\n",
       "      <td>0.150794</td>\n",
       "      <td>0.0</td>\n",
       "    </tr>\n",
       "    <tr>\n",
       "      <th>3</th>\n",
       "      <td>http://rgipt.ac.in</td>\n",
       "      <td>18</td>\n",
       "      <td>11</td>\n",
       "      <td>2</td>\n",
       "      <td>0</td>\n",
       "      <td>0</td>\n",
       "      <td>0</td>\n",
       "      <td>0</td>\n",
       "      <td>0</td>\n",
       "      <td>0</td>\n",
       "      <td>...</td>\n",
       "      <td>2</td>\n",
       "      <td>0</td>\n",
       "      <td>1</td>\n",
       "      <td>0</td>\n",
       "      <td>0</td>\n",
       "      <td>0</td>\n",
       "      <td>0</td>\n",
       "      <td>0</td>\n",
       "      <td>0.000000</td>\n",
       "      <td>0.0</td>\n",
       "    </tr>\n",
       "    <tr>\n",
       "      <th>4</th>\n",
       "      <td>http://www.iracing.com/tracks/gateway-motorspo...</td>\n",
       "      <td>55</td>\n",
       "      <td>15</td>\n",
       "      <td>2</td>\n",
       "      <td>2</td>\n",
       "      <td>0</td>\n",
       "      <td>0</td>\n",
       "      <td>0</td>\n",
       "      <td>0</td>\n",
       "      <td>0</td>\n",
       "      <td>...</td>\n",
       "      <td>5</td>\n",
       "      <td>0</td>\n",
       "      <td>1</td>\n",
       "      <td>0</td>\n",
       "      <td>0</td>\n",
       "      <td>0</td>\n",
       "      <td>0</td>\n",
       "      <td>0</td>\n",
       "      <td>0.000000</td>\n",
       "      <td>0.0</td>\n",
       "    </tr>\n",
       "  </tbody>\n",
       "</table>\n",
       "<p>5 rows × 23 columns</p>\n",
       "</div>"
      ],
      "text/plain": [
       "                                                 url  f1_url_length  \\\n",
       "0              http://www.crestonwood.com/router.php             37   \n",
       "1  http://shadetreetechnology.com/V4/validation/a...             77   \n",
       "2  https://support-appleld.com.secureupdate.duila...            126   \n",
       "3                                 http://rgipt.ac.in             18   \n",
       "4  http://www.iracing.com/tracks/gateway-motorspo...             55   \n",
       "\n",
       "   f2_hostname_length  f4_number_of_dots  f5_number_of_hyphens  \\\n",
       "0                  19                  3                     0   \n",
       "1                  23                  1                     0   \n",
       "2                  50                  4                     1   \n",
       "3                  11                  2                     0   \n",
       "4                  15                  2                     2   \n",
       "\n",
       "   f6_number_of_at  f7_number_of_question_mark  f8_number_of_ampersand  \\\n",
       "0                0                           0                       0   \n",
       "1                0                           0                       0   \n",
       "2                0                           1                       2   \n",
       "3                0                           0                       0   \n",
       "4                0                           0                       0   \n",
       "\n",
       "   f9_number_of_bar  f10_number_of_equal  ...  f14_number_of_slash  \\\n",
       "0                 0                    0  ...                    3   \n",
       "1                 0                    0  ...                    5   \n",
       "2                 0                    3  ...                    5   \n",
       "3                 0                    0  ...                    2   \n",
       "4                 0                    0  ...                    5   \n",
       "\n",
       "   f15_number_of_ast  f16_number_of_colon  f17_number_of_comma  \\\n",
       "0                  0                    1                    0   \n",
       "1                  0                    1                    0   \n",
       "2                  0                    1                    0   \n",
       "3                  0                    1                    0   \n",
       "4                  0                    1                    0   \n",
       "\n",
       "   f18_number_of_semicolon  f19_number_of_dollar  f20_number_of_space  \\\n",
       "0                        0                     0                    0   \n",
       "1                        0                     0                    0   \n",
       "2                        0                     0                    0   \n",
       "3                        0                     0                    0   \n",
       "4                        0                     0                    0   \n",
       "\n",
       "   f25_has_https  f26_ratio_of_digits_url  f27_ratio_of_digits_hostname  \n",
       "0              0                 0.000000                           0.0  \n",
       "1              0                 0.220779                           0.0  \n",
       "2              1                 0.150794                           0.0  \n",
       "3              0                 0.000000                           0.0  \n",
       "4              0                 0.000000                           0.0  \n",
       "\n",
       "[5 rows x 23 columns]"
      ]
     },
     "execution_count": 6,
     "metadata": {},
     "output_type": "execute_result"
    }
   ],
   "source": [
    "# show only new features\n",
    "data[['url', 'f1_url_length', 'f2_hostname_length', 'f4_number_of_dots', 'f5_number_of_hyphens', 'f6_number_of_at', 'f7_number_of_question_mark', 'f8_number_of_ampersand', 'f9_number_of_bar', 'f10_number_of_equal', 'f11_number_of_underline', 'f12_number_of_tilde', 'f13_number_of_percent', 'f14_number_of_slash', 'f15_number_of_ast', 'f16_number_of_colon', 'f17_number_of_comma', 'f18_number_of_semicolon', 'f19_number_of_dollar', 'f20_number_of_space', 'f25_has_https', 'f26_ratio_of_digits_url', 'f27_ratio_of_digits_hostname']].head()"
   ]
  },
  {
   "attachments": {},
   "cell_type": "markdown",
   "metadata": {},
   "source": [
    "## Preprocesamiento de datos"
   ]
  },
  {
   "attachments": {},
   "cell_type": "markdown",
   "metadata": {},
   "source": [
    "Convertir la columna categorica status a una variable binaria"
   ]
  },
  {
   "cell_type": "code",
   "execution_count": 7,
   "metadata": {},
   "outputs": [
    {
     "data": {
      "text/plain": [
       "0        1\n",
       "1        0\n",
       "2        0\n",
       "3        1\n",
       "4        1\n",
       "        ..\n",
       "11425    1\n",
       "11426    0\n",
       "11427    1\n",
       "11428    1\n",
       "11429    0\n",
       "Name: status, Length: 11430, dtype: int64"
      ]
     },
     "execution_count": 7,
     "metadata": {},
     "output_type": "execute_result"
    }
   ],
   "source": [
    "data['status'] = data['status'].apply(lambda x: 0 if x == 'phishing' else 1)\n",
    "data['status']"
   ]
  },
  {
   "attachments": {},
   "cell_type": "markdown",
   "metadata": {},
   "source": [
    "No se había creado una columna de dominio así que no es necesario quitarla"
   ]
  },
  {
   "attachments": {},
   "cell_type": "markdown",
   "metadata": {},
   "source": [
    "## Visualizacion de resultados"
   ]
  },
  {
   "cell_type": "code",
   "execution_count": 8,
   "metadata": {},
   "outputs": [
    {
     "data": {
      "application/vnd.jupyter.widget-view+json": {
       "model_id": "6c68eca6003944e38faf74674522951e",
       "version_major": 2,
       "version_minor": 0
      },
      "text/plain": [
       "Summarize dataset:   0%|          | 0/5 [00:00<?, ?it/s]"
      ]
     },
     "metadata": {},
     "output_type": "display_data"
    },
    {
     "name": "stderr",
     "output_type": "stream",
     "text": [
      "c:\\Users\\julio\\AppData\\Local\\Programs\\Python\\Python38\\lib\\site-packages\\multimethod\\__init__.py:312: FutureWarning: iteritems is deprecated and will be removed in a future version. Use .items instead.\n",
      "  return func(*args, **kwargs)\n",
      "c:\\Users\\julio\\AppData\\Local\\Programs\\Python\\Python38\\lib\\site-packages\\multimethod\\__init__.py:312: FutureWarning: In a future version, `df.iloc[:, i] = newvals` will attempt to set the values inplace instead of always setting a new array. To retain the old behavior, use either `df[df.columns[i]] = newvals` or, if columns are non-unique, `df.isetitem(i, newvals)`\n",
      "  return func(*args, **kwargs)\n",
      "c:\\Users\\julio\\AppData\\Local\\Programs\\Python\\Python38\\lib\\site-packages\\multimethod\\__init__.py:312: FutureWarning: The default value of numeric_only in DataFrame.corr is deprecated. In a future version, it will default to False. Select only valid columns or specify the value of numeric_only to silence this warning.\n",
      "  return func(*args, **kwargs)\n",
      "c:\\Users\\julio\\AppData\\Local\\Programs\\Python\\Python38\\lib\\site-packages\\missingno\\missingno.py:254: UserWarning: FixedFormatter should only be used together with FixedLocator\n",
      "  ax1.set_xticklabels(\n",
      "c:\\Users\\julio\\AppData\\Local\\Programs\\Python\\Python38\\lib\\site-packages\\pandas_profiling\\model\\missing.py:89: UserWarning: There was an attempt to generate the Count missing values diagrams, but this failed.\n",
      "To hide this warning, disable the calculation\n",
      "(using `df.profile_report(missing_diagrams={\"Count\": False}`)\n",
      "If this is problematic for your use case, please report this as an issue:\n",
      "https://github.com/ydataai/pandas-profiling/issues\n",
      "(include the error message: 'The number of FixedLocator locations (7), usually from a call to set_ticks, does not match the number of ticklabels (89).')\n",
      "  warnings.warn(\n"
     ]
    },
    {
     "data": {
      "application/vnd.jupyter.widget-view+json": {
       "model_id": "d7b733821c364537931ef93e4872f060",
       "version_major": 2,
       "version_minor": 0
      },
      "text/plain": [
       "Generate report structure:   0%|          | 0/1 [00:00<?, ?it/s]"
      ]
     },
     "metadata": {},
     "output_type": "display_data"
    },
    {
     "data": {
      "application/vnd.jupyter.widget-view+json": {
       "model_id": "738d86800d774b028e3bd5b998518d57",
       "version_major": 2,
       "version_minor": 0
      },
      "text/plain": [
       "Render HTML:   0%|          | 0/1 [00:00<?, ?it/s]"
      ]
     },
     "metadata": {},
     "output_type": "display_data"
    },
    {
     "data": {
      "application/vnd.jupyter.widget-view+json": {
       "model_id": "17180b4721f44f2193cc935a2115d89d",
       "version_major": 2,
       "version_minor": 0
      },
      "text/plain": [
       "Export report to file:   0%|          | 0/1 [00:00<?, ?it/s]"
      ]
     },
     "metadata": {},
     "output_type": "display_data"
    },
    {
     "data": {
      "image/png": "[encoded data removed]",
      "text/plain": [
       "<Figure size 1000x500 with 3 Axes>"
      ]
     },
     "metadata": {},
     "output_type": "display_data"
    }
   ],
   "source": [
    "# Profile Report\n",
    "profile = ProfileReport(data, title='Phishing Websites', explorative=True)\n",
    "profile.to_file(\"phishing_websites.html\")"
   ]
  },
  {
   "attachments": {},
   "cell_type": "markdown",
   "metadata": {},
   "source": [
    "Las columnas que son constantes, o que no tienen una varianza alta con la columna status son:\n",
    " - f1"
   ]
  }
 ],
 "metadata": {
  "kernelspec": {
   "display_name": "Python 3",
   "language": "python",
   "name": "python3"
  },
  "language_info": {
   "codemirror_mode": {
    "name": "ipython",
    "version": 3
   },
   "file_extension": ".py",
   "mimetype": "text/x-python",
   "name": "python",
   "nbconvert_exporter": "python",
   "pygments_lexer": "ipython3",
   "version": "3.8.0"
  },
  "orig_nbformat": 4,
  "vscode": {
   "interpreter": {
    "hash": "221a84ff5d925afb6f3119f56227a1083ee515fccbee5919516674b7e72e387e"
   }
  }
 },
 "nbformat": 4,
 "nbformat_minor": 2
}
