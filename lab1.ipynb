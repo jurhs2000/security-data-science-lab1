{
 "cells": [
  {
   "attachments": {},
   "cell_type": "markdown",
   "metadata": {},
   "source": [
    "# Laboratorio 1\n",
    "#### Universidad del Valle de Guatemala\n",
    "#### CC3094 - Security Data Science\n",
    "#### Julio Herrera 19402\n",
    "#### Diego Arredondo 19422"
   ]
  },
  {
   "cell_type": "code",
   "execution_count": 1,
   "metadata": {},
   "outputs": [],
   "source": [
    "import pandas as pd\n",
    "from urllib.parse import urlparse # for parsing URLs\n",
    "from pandas_profiling import ProfileReport # for generating reports\n",
    "from sklearn.model_selection import train_test_split # for splitting data\n",
    "from sklearn import tree, metrics\n",
    "import seaborn as sns\n",
    "import numpy as np\n",
    "import matplotlib.pyplot as plt\n",
    "%matplotlib inline"
   ]
  },
  {
   "attachments": {},
   "cell_type": "markdown",
   "metadata": {},
   "source": [
    "Cargando el dataset y mostrando 5 observaciones"
   ]
  },
  {
   "cell_type": "code",
   "execution_count": 2,
   "metadata": {},
   "outputs": [
    {
     "data": {
      "text/html": [
       "<div>\n",
       "<style scoped>\n",
       "    .dataframe tbody tr th:only-of-type {\n",
       "        vertical-align: middle;\n",
       "    }\n",
       "\n",
       "    .dataframe tbody tr th {\n",
       "        vertical-align: top;\n",
       "    }\n",
       "\n",
       "    .dataframe thead th {\n",
       "        text-align: right;\n",
       "    }\n",
       "</style>\n",
       "<table border=\"1\" class=\"dataframe\">\n",
       "  <thead>\n",
       "    <tr style=\"text-align: right;\">\n",
       "      <th></th>\n",
       "      <th>url</th>\n",
       "      <th>ip</th>\n",
       "      <th>nb_www</th>\n",
       "      <th>nb_com</th>\n",
       "      <th>nb_dslash</th>\n",
       "      <th>http_in_path</th>\n",
       "      <th>punycode</th>\n",
       "      <th>port</th>\n",
       "      <th>tld_in_path</th>\n",
       "      <th>tld_in_subdomain</th>\n",
       "      <th>...</th>\n",
       "      <th>domain_in_title</th>\n",
       "      <th>domain_with_copyright</th>\n",
       "      <th>whois_registered_domain</th>\n",
       "      <th>domain_registration_length</th>\n",
       "      <th>domain_age</th>\n",
       "      <th>web_traffic</th>\n",
       "      <th>dns_record</th>\n",
       "      <th>google_index</th>\n",
       "      <th>page_rank</th>\n",
       "      <th>status</th>\n",
       "    </tr>\n",
       "  </thead>\n",
       "  <tbody>\n",
       "    <tr>\n",
       "      <th>0</th>\n",
       "      <td>http://www.crestonwood.com/router.php</td>\n",
       "      <td>0</td>\n",
       "      <td>1</td>\n",
       "      <td>0</td>\n",
       "      <td>0</td>\n",
       "      <td>0</td>\n",
       "      <td>0</td>\n",
       "      <td>0</td>\n",
       "      <td>0</td>\n",
       "      <td>0</td>\n",
       "      <td>...</td>\n",
       "      <td>0</td>\n",
       "      <td>1</td>\n",
       "      <td>0</td>\n",
       "      <td>45</td>\n",
       "      <td>-1</td>\n",
       "      <td>0</td>\n",
       "      <td>1</td>\n",
       "      <td>1</td>\n",
       "      <td>4</td>\n",
       "      <td>legitimate</td>\n",
       "    </tr>\n",
       "    <tr>\n",
       "      <th>1</th>\n",
       "      <td>http://shadetreetechnology.com/V4/validation/a...</td>\n",
       "      <td>1</td>\n",
       "      <td>0</td>\n",
       "      <td>0</td>\n",
       "      <td>0</td>\n",
       "      <td>0</td>\n",
       "      <td>0</td>\n",
       "      <td>0</td>\n",
       "      <td>0</td>\n",
       "      <td>0</td>\n",
       "      <td>...</td>\n",
       "      <td>1</td>\n",
       "      <td>0</td>\n",
       "      <td>0</td>\n",
       "      <td>77</td>\n",
       "      <td>5767</td>\n",
       "      <td>0</td>\n",
       "      <td>0</td>\n",
       "      <td>1</td>\n",
       "      <td>2</td>\n",
       "      <td>phishing</td>\n",
       "    </tr>\n",
       "    <tr>\n",
       "      <th>2</th>\n",
       "      <td>https://support-appleld.com.secureupdate.duila...</td>\n",
       "      <td>1</td>\n",
       "      <td>0</td>\n",
       "      <td>1</td>\n",
       "      <td>0</td>\n",
       "      <td>0</td>\n",
       "      <td>0</td>\n",
       "      <td>0</td>\n",
       "      <td>0</td>\n",
       "      <td>1</td>\n",
       "      <td>...</td>\n",
       "      <td>1</td>\n",
       "      <td>0</td>\n",
       "      <td>0</td>\n",
       "      <td>14</td>\n",
       "      <td>4004</td>\n",
       "      <td>5828815</td>\n",
       "      <td>0</td>\n",
       "      <td>1</td>\n",
       "      <td>0</td>\n",
       "      <td>phishing</td>\n",
       "    </tr>\n",
       "    <tr>\n",
       "      <th>3</th>\n",
       "      <td>http://rgipt.ac.in</td>\n",
       "      <td>0</td>\n",
       "      <td>0</td>\n",
       "      <td>0</td>\n",
       "      <td>0</td>\n",
       "      <td>0</td>\n",
       "      <td>0</td>\n",
       "      <td>0</td>\n",
       "      <td>0</td>\n",
       "      <td>0</td>\n",
       "      <td>...</td>\n",
       "      <td>1</td>\n",
       "      <td>0</td>\n",
       "      <td>0</td>\n",
       "      <td>62</td>\n",
       "      <td>-1</td>\n",
       "      <td>107721</td>\n",
       "      <td>0</td>\n",
       "      <td>0</td>\n",
       "      <td>3</td>\n",
       "      <td>legitimate</td>\n",
       "    </tr>\n",
       "    <tr>\n",
       "      <th>4</th>\n",
       "      <td>http://www.iracing.com/tracks/gateway-motorspo...</td>\n",
       "      <td>0</td>\n",
       "      <td>1</td>\n",
       "      <td>0</td>\n",
       "      <td>0</td>\n",
       "      <td>0</td>\n",
       "      <td>0</td>\n",
       "      <td>0</td>\n",
       "      <td>0</td>\n",
       "      <td>0</td>\n",
       "      <td>...</td>\n",
       "      <td>0</td>\n",
       "      <td>1</td>\n",
       "      <td>0</td>\n",
       "      <td>224</td>\n",
       "      <td>8175</td>\n",
       "      <td>8725</td>\n",
       "      <td>0</td>\n",
       "      <td>0</td>\n",
       "      <td>6</td>\n",
       "      <td>legitimate</td>\n",
       "    </tr>\n",
       "  </tbody>\n",
       "</table>\n",
       "<p>5 rows × 67 columns</p>\n",
       "</div>"
      ],
      "text/plain": [
       "                                                 url  ip  nb_www  nb_com  \\\n",
       "0              http://www.crestonwood.com/router.php   0       1       0   \n",
       "1  http://shadetreetechnology.com/V4/validation/a...   1       0       0   \n",
       "2  https://support-appleld.com.secureupdate.duila...   1       0       1   \n",
       "3                                 http://rgipt.ac.in   0       0       0   \n",
       "4  http://www.iracing.com/tracks/gateway-motorspo...   0       1       0   \n",
       "\n",
       "   nb_dslash  http_in_path  punycode  port  tld_in_path  tld_in_subdomain  \\\n",
       "0          0             0         0     0            0                 0   \n",
       "1          0             0         0     0            0                 0   \n",
       "2          0             0         0     0            0                 1   \n",
       "3          0             0         0     0            0                 0   \n",
       "4          0             0         0     0            0                 0   \n",
       "\n",
       "   ...  domain_in_title  domain_with_copyright  whois_registered_domain  \\\n",
       "0  ...                0                      1                        0   \n",
       "1  ...                1                      0                        0   \n",
       "2  ...                1                      0                        0   \n",
       "3  ...                1                      0                        0   \n",
       "4  ...                0                      1                        0   \n",
       "\n",
       "   domain_registration_length  domain_age  web_traffic  dns_record  \\\n",
       "0                          45          -1            0           1   \n",
       "1                          77        5767            0           0   \n",
       "2                          14        4004      5828815           0   \n",
       "3                          62          -1       107721           0   \n",
       "4                         224        8175         8725           0   \n",
       "\n",
       "   google_index  page_rank      status  \n",
       "0             1          4  legitimate  \n",
       "1             1          2    phishing  \n",
       "2             1          0    phishing  \n",
       "3             0          3  legitimate  \n",
       "4             0          6  legitimate  \n",
       "\n",
       "[5 rows x 67 columns]"
      ]
     },
     "execution_count": 2,
     "metadata": {},
     "output_type": "execute_result"
    }
   ],
   "source": [
    "data = pd.read_csv('dataset_pishing.csv')\n",
    "data.head()"
   ]
  },
  {
   "attachments": {},
   "cell_type": "markdown",
   "metadata": {},
   "source": [
    "# Parte 1 - Ingenieria de caracteristicas"
   ]
  },
  {
   "attachments": {},
   "cell_type": "markdown",
   "metadata": {},
   "source": [
    "## Exploracion de datos"
   ]
  },
  {
   "attachments": {},
   "cell_type": "markdown",
   "metadata": {},
   "source": [
    "Cantidad de observaciones \"legitimate\""
   ]
  },
  {
   "cell_type": "code",
   "execution_count": 3,
   "metadata": {},
   "outputs": [
    {
     "data": {
      "text/plain": [
       "(5715, 67)"
      ]
     },
     "execution_count": 3,
     "metadata": {},
     "output_type": "execute_result"
    }
   ],
   "source": [
    "data[data['status'] == 'legitimate'].shape"
   ]
  },
  {
   "attachments": {},
   "cell_type": "markdown",
   "metadata": {},
   "source": [
    "Cantidad de observaciones \"phishing\""
   ]
  },
  {
   "cell_type": "code",
   "execution_count": 4,
   "metadata": {},
   "outputs": [
    {
     "data": {
      "text/plain": [
       "(5715, 67)"
      ]
     },
     "execution_count": 4,
     "metadata": {},
     "output_type": "execute_result"
    }
   ],
   "source": [
    "data[data['status'] == 'phishing'].shape"
   ]
  },
  {
   "attachments": {},
   "cell_type": "markdown",
   "metadata": {},
   "source": [
    "Existe la misma cantidad de observaciones con status 'legitimate' y 'phishing' (5715) por lo que el dataset se encuentra balanceado."
   ]
  },
  {
   "attachments": {},
   "cell_type": "markdown",
   "metadata": {},
   "source": [
    "## Derivacion de caracteristicas"
   ]
  },
  {
   "attachments": {},
   "cell_type": "markdown",
   "metadata": {},
   "source": [
    "Derivando las caracteristicas f1, f2, f4 – f20, f25, f26 y f27 en base al paper “Towards Benchmark Datasets for ML Based Wensite Phishing Detection: An\n",
    "Experimental Study”"
   ]
  },
  {
   "cell_type": "code",
   "execution_count": 5,
   "metadata": {},
   "outputs": [],
   "source": [
    "def f1_url_length(url):\n",
    "    return len(url)\n",
    "\n",
    "def f2_hostname_length(url):\n",
    "    return len(urlparse(url).netloc)\n",
    "\n",
    "def f4_number_of_dots(url):\n",
    "    return url.count('.')\n",
    "\n",
    "def f5_number_of_hyphens(url):\n",
    "    return url.count('-')\n",
    "\n",
    "def f6_number_of_at(url):\n",
    "    return url.count('@')\n",
    "\n",
    "def f7_number_of_question_mark(url):\n",
    "    return url.count('?')\n",
    "\n",
    "def f8_number_of_ampersand(url):\n",
    "    return url.count('&')\n",
    "\n",
    "def f9_number_of_bar(url):\n",
    "    return url.count('|')\n",
    "\n",
    "def f10_number_of_equal(url):\n",
    "    return url.count('=')\n",
    "\n",
    "def f11_number_of_underline(url):\n",
    "    return url.count('_')\n",
    "\n",
    "def f12_number_of_tilde(url):\n",
    "    return url.count('~')\n",
    "\n",
    "def f13_number_of_percent(url):\n",
    "    return url.count('%')\n",
    "\n",
    "def f14_number_of_slash(url):\n",
    "    return url.count('/')\n",
    "\n",
    "def f15_number_of_ast(url):\n",
    "    return url.count('*')\n",
    "\n",
    "def f16_number_of_colon(url):\n",
    "    return url.count(':')\n",
    "\n",
    "def f17_number_of_comma(url):\n",
    "    return url.count(',')\n",
    "\n",
    "def f18_number_of_semicolon(url):\n",
    "    return url.count(';')\n",
    "\n",
    "def f19_number_of_dollar(url):\n",
    "    return url.count('$')\n",
    "\n",
    "def f20_number_of_space(url):\n",
    "    return url.count(' ') or url.count('%20')\n",
    "\n",
    "def f25_has_https(url):\n",
    "    return 1 if url.startswith('https') else 0\n",
    "\n",
    "def f26_ratio_of_digits_url(url):\n",
    "    digits = sum(c.isdigit() for c in url)\n",
    "    return digits / len(url)\n",
    "\n",
    "def f27_ratio_of_digits_hostname(url):\n",
    "    hostname = urlparse(url).netloc\n",
    "    digits = sum(c.isdigit() for c in hostname)\n",
    "    return digits / len(hostname)\n",
    "\n",
    "data['f1_url_length'] = data['url'].apply(f1_url_length)\n",
    "data['f2_hostname_length'] = data['url'].apply(f2_hostname_length)\n",
    "data['f4_number_of_dots'] = data['url'].apply(f4_number_of_dots)\n",
    "data['f5_number_of_hyphens'] = data['url'].apply(f5_number_of_hyphens)\n",
    "data['f6_number_of_at'] = data['url'].apply(f6_number_of_at)\n",
    "data['f7_number_of_question_mark'] = data['url'].apply(f7_number_of_question_mark)\n",
    "data['f8_number_of_ampersand'] = data['url'].apply(f8_number_of_ampersand)\n",
    "data['f9_number_of_bar'] = data['url'].apply(f9_number_of_bar)\n",
    "data['f10_number_of_equal'] = data['url'].apply(f10_number_of_equal)\n",
    "data['f11_number_of_underline'] = data['url'].apply(f11_number_of_underline)\n",
    "data['f12_number_of_tilde'] = data['url'].apply(f12_number_of_tilde)\n",
    "data['f13_number_of_percent'] = data['url'].apply(f13_number_of_percent)\n",
    "data['f14_number_of_slash'] = data['url'].apply(f14_number_of_slash)\n",
    "data['f15_number_of_ast'] = data['url'].apply(f15_number_of_ast)\n",
    "data['f16_number_of_colon'] = data['url'].apply(f16_number_of_colon)\n",
    "data['f17_number_of_comma'] = data['url'].apply(f17_number_of_comma)\n",
    "data['f18_number_of_semicolon'] = data['url'].apply(f18_number_of_semicolon)\n",
    "data['f19_number_of_dollar'] = data['url'].apply(f19_number_of_dollar)\n",
    "data['f20_number_of_space'] = data['url'].apply(f20_number_of_space)\n",
    "data['f25_has_https'] = data['url'].apply(f25_has_https)\n",
    "data['f26_ratio_of_digits_url'] = data['url'].apply(f26_ratio_of_digits_url)\n",
    "data['f27_ratio_of_digits_hostname'] = data['url'].apply(f27_ratio_of_digits_hostname)"
   ]
  },
  {
   "attachments": {},
   "cell_type": "markdown",
   "metadata": {},
   "source": [
    "Mostrando el resultado de las nuevas columnas de derivacion de caracteristicas"
   ]
  },
  {
   "cell_type": "code",
   "execution_count": 6,
   "metadata": {},
   "outputs": [
    {
     "data": {
      "text/html": [
       "<div>\n",
       "<style scoped>\n",
       "    .dataframe tbody tr th:only-of-type {\n",
       "        vertical-align: middle;\n",
       "    }\n",
       "\n",
       "    .dataframe tbody tr th {\n",
       "        vertical-align: top;\n",
       "    }\n",
       "\n",
       "    .dataframe thead th {\n",
       "        text-align: right;\n",
       "    }\n",
       "</style>\n",
       "<table border=\"1\" class=\"dataframe\">\n",
       "  <thead>\n",
       "    <tr style=\"text-align: right;\">\n",
       "      <th></th>\n",
       "      <th>url</th>\n",
       "      <th>f1_url_length</th>\n",
       "      <th>f2_hostname_length</th>\n",
       "      <th>f4_number_of_dots</th>\n",
       "      <th>f5_number_of_hyphens</th>\n",
       "      <th>f6_number_of_at</th>\n",
       "      <th>f7_number_of_question_mark</th>\n",
       "      <th>f8_number_of_ampersand</th>\n",
       "      <th>f9_number_of_bar</th>\n",
       "      <th>f10_number_of_equal</th>\n",
       "      <th>...</th>\n",
       "      <th>f14_number_of_slash</th>\n",
       "      <th>f15_number_of_ast</th>\n",
       "      <th>f16_number_of_colon</th>\n",
       "      <th>f17_number_of_comma</th>\n",
       "      <th>f18_number_of_semicolon</th>\n",
       "      <th>f19_number_of_dollar</th>\n",
       "      <th>f20_number_of_space</th>\n",
       "      <th>f25_has_https</th>\n",
       "      <th>f26_ratio_of_digits_url</th>\n",
       "      <th>f27_ratio_of_digits_hostname</th>\n",
       "    </tr>\n",
       "  </thead>\n",
       "  <tbody>\n",
       "    <tr>\n",
       "      <th>0</th>\n",
       "      <td>http://www.crestonwood.com/router.php</td>\n",
       "      <td>37</td>\n",
       "      <td>19</td>\n",
       "      <td>3</td>\n",
       "      <td>0</td>\n",
       "      <td>0</td>\n",
       "      <td>0</td>\n",
       "      <td>0</td>\n",
       "      <td>0</td>\n",
       "      <td>0</td>\n",
       "      <td>...</td>\n",
       "      <td>3</td>\n",
       "      <td>0</td>\n",
       "      <td>1</td>\n",
       "      <td>0</td>\n",
       "      <td>0</td>\n",
       "      <td>0</td>\n",
       "      <td>0</td>\n",
       "      <td>0</td>\n",
       "      <td>0.000000</td>\n",
       "      <td>0.0</td>\n",
       "    </tr>\n",
       "    <tr>\n",
       "      <th>1</th>\n",
       "      <td>http://shadetreetechnology.com/V4/validation/a...</td>\n",
       "      <td>77</td>\n",
       "      <td>23</td>\n",
       "      <td>1</td>\n",
       "      <td>0</td>\n",
       "      <td>0</td>\n",
       "      <td>0</td>\n",
       "      <td>0</td>\n",
       "      <td>0</td>\n",
       "      <td>0</td>\n",
       "      <td>...</td>\n",
       "      <td>5</td>\n",
       "      <td>0</td>\n",
       "      <td>1</td>\n",
       "      <td>0</td>\n",
       "      <td>0</td>\n",
       "      <td>0</td>\n",
       "      <td>0</td>\n",
       "      <td>0</td>\n",
       "      <td>0.220779</td>\n",
       "      <td>0.0</td>\n",
       "    </tr>\n",
       "    <tr>\n",
       "      <th>2</th>\n",
       "      <td>https://support-appleld.com.secureupdate.duila...</td>\n",
       "      <td>126</td>\n",
       "      <td>50</td>\n",
       "      <td>4</td>\n",
       "      <td>1</td>\n",
       "      <td>0</td>\n",
       "      <td>1</td>\n",
       "      <td>2</td>\n",
       "      <td>0</td>\n",
       "      <td>3</td>\n",
       "      <td>...</td>\n",
       "      <td>5</td>\n",
       "      <td>0</td>\n",
       "      <td>1</td>\n",
       "      <td>0</td>\n",
       "      <td>0</td>\n",
       "      <td>0</td>\n",
       "      <td>0</td>\n",
       "      <td>1</td>\n",
       "      <td>0.150794</td>\n",
       "      <td>0.0</td>\n",
       "    </tr>\n",
       "    <tr>\n",
       "      <th>3</th>\n",
       "      <td>http://rgipt.ac.in</td>\n",
       "      <td>18</td>\n",
       "      <td>11</td>\n",
       "      <td>2</td>\n",
       "      <td>0</td>\n",
       "      <td>0</td>\n",
       "      <td>0</td>\n",
       "      <td>0</td>\n",
       "      <td>0</td>\n",
       "      <td>0</td>\n",
       "      <td>...</td>\n",
       "      <td>2</td>\n",
       "      <td>0</td>\n",
       "      <td>1</td>\n",
       "      <td>0</td>\n",
       "      <td>0</td>\n",
       "      <td>0</td>\n",
       "      <td>0</td>\n",
       "      <td>0</td>\n",
       "      <td>0.000000</td>\n",
       "      <td>0.0</td>\n",
       "    </tr>\n",
       "    <tr>\n",
       "      <th>4</th>\n",
       "      <td>http://www.iracing.com/tracks/gateway-motorspo...</td>\n",
       "      <td>55</td>\n",
       "      <td>15</td>\n",
       "      <td>2</td>\n",
       "      <td>2</td>\n",
       "      <td>0</td>\n",
       "      <td>0</td>\n",
       "      <td>0</td>\n",
       "      <td>0</td>\n",
       "      <td>0</td>\n",
       "      <td>...</td>\n",
       "      <td>5</td>\n",
       "      <td>0</td>\n",
       "      <td>1</td>\n",
       "      <td>0</td>\n",
       "      <td>0</td>\n",
       "      <td>0</td>\n",
       "      <td>0</td>\n",
       "      <td>0</td>\n",
       "      <td>0.000000</td>\n",
       "      <td>0.0</td>\n",
       "    </tr>\n",
       "  </tbody>\n",
       "</table>\n",
       "<p>5 rows × 23 columns</p>\n",
       "</div>"
      ],
      "text/plain": [
       "                                                 url  f1_url_length  \\\n",
       "0              http://www.crestonwood.com/router.php             37   \n",
       "1  http://shadetreetechnology.com/V4/validation/a...             77   \n",
       "2  https://support-appleld.com.secureupdate.duila...            126   \n",
       "3                                 http://rgipt.ac.in             18   \n",
       "4  http://www.iracing.com/tracks/gateway-motorspo...             55   \n",
       "\n",
       "   f2_hostname_length  f4_number_of_dots  f5_number_of_hyphens  \\\n",
       "0                  19                  3                     0   \n",
       "1                  23                  1                     0   \n",
       "2                  50                  4                     1   \n",
       "3                  11                  2                     0   \n",
       "4                  15                  2                     2   \n",
       "\n",
       "   f6_number_of_at  f7_number_of_question_mark  f8_number_of_ampersand  \\\n",
       "0                0                           0                       0   \n",
       "1                0                           0                       0   \n",
       "2                0                           1                       2   \n",
       "3                0                           0                       0   \n",
       "4                0                           0                       0   \n",
       "\n",
       "   f9_number_of_bar  f10_number_of_equal  ...  f14_number_of_slash  \\\n",
       "0                 0                    0  ...                    3   \n",
       "1                 0                    0  ...                    5   \n",
       "2                 0                    3  ...                    5   \n",
       "3                 0                    0  ...                    2   \n",
       "4                 0                    0  ...                    5   \n",
       "\n",
       "   f15_number_of_ast  f16_number_of_colon  f17_number_of_comma  \\\n",
       "0                  0                    1                    0   \n",
       "1                  0                    1                    0   \n",
       "2                  0                    1                    0   \n",
       "3                  0                    1                    0   \n",
       "4                  0                    1                    0   \n",
       "\n",
       "   f18_number_of_semicolon  f19_number_of_dollar  f20_number_of_space  \\\n",
       "0                        0                     0                    0   \n",
       "1                        0                     0                    0   \n",
       "2                        0                     0                    0   \n",
       "3                        0                     0                    0   \n",
       "4                        0                     0                    0   \n",
       "\n",
       "   f25_has_https  f26_ratio_of_digits_url  f27_ratio_of_digits_hostname  \n",
       "0              0                 0.000000                           0.0  \n",
       "1              0                 0.220779                           0.0  \n",
       "2              1                 0.150794                           0.0  \n",
       "3              0                 0.000000                           0.0  \n",
       "4              0                 0.000000                           0.0  \n",
       "\n",
       "[5 rows x 23 columns]"
      ]
     },
     "execution_count": 6,
     "metadata": {},
     "output_type": "execute_result"
    }
   ],
   "source": [
    "# show only new features\n",
    "data[['url', 'f1_url_length', 'f2_hostname_length', 'f4_number_of_dots', 'f5_number_of_hyphens', 'f6_number_of_at', 'f7_number_of_question_mark', 'f8_number_of_ampersand', 'f9_number_of_bar', 'f10_number_of_equal', 'f11_number_of_underline', 'f12_number_of_tilde', 'f13_number_of_percent', 'f14_number_of_slash', 'f15_number_of_ast', 'f16_number_of_colon', 'f17_number_of_comma', 'f18_number_of_semicolon', 'f19_number_of_dollar', 'f20_number_of_space', 'f25_has_https', 'f26_ratio_of_digits_url', 'f27_ratio_of_digits_hostname']].head()"
   ]
  },
  {
   "attachments": {},
   "cell_type": "markdown",
   "metadata": {},
   "source": [
    "## Preprocesamiento de datos"
   ]
  },
  {
   "attachments": {},
   "cell_type": "markdown",
   "metadata": {},
   "source": [
    "Convertir la columna categorica status a una variable binaria"
   ]
  },
  {
   "cell_type": "code",
   "execution_count": 7,
   "metadata": {},
   "outputs": [
    {
     "data": {
      "text/plain": [
       "0        1\n",
       "1        0\n",
       "2        0\n",
       "3        1\n",
       "4        1\n",
       "        ..\n",
       "11425    1\n",
       "11426    0\n",
       "11427    1\n",
       "11428    1\n",
       "11429    0\n",
       "Name: status, Length: 11430, dtype: int64"
      ]
     },
     "execution_count": 7,
     "metadata": {},
     "output_type": "execute_result"
    }
   ],
   "source": [
    "data['status'] = data['status'].apply(lambda x: 0 if x == 'phishing' else 1)\n",
    "data['status']"
   ]
  },
  {
   "attachments": {},
   "cell_type": "markdown",
   "metadata": {},
   "source": [
    "No se había creado una columna de dominio así que no es necesario quitarla"
   ]
  },
  {
   "attachments": {},
   "cell_type": "markdown",
   "metadata": {},
   "source": [
    "## Visualizacion de resultados"
   ]
  },
  {
   "cell_type": "code",
   "execution_count": 8,
   "metadata": {},
   "outputs": [
    {
     "data": {
      "application/vnd.jupyter.widget-view+json": {
       "model_id": "0605a2b920654f708c15304aeb5b7aee",
       "version_major": 2,
       "version_minor": 0
      },
      "text/plain": [
       "Summarize dataset:   0%|          | 0/5 [00:00<?, ?it/s]"
      ]
     },
     "metadata": {},
     "output_type": "display_data"
    },
    {
     "name": "stderr",
     "output_type": "stream",
     "text": [
      "c:\\Users\\diego\\AppData\\Local\\Programs\\Python\\Python38\\lib\\site-packages\\missingno\\missingno.py:254: UserWarning: FixedFormatter should only be used together with FixedLocator\n",
      "  ax1.set_xticklabels(\n",
      "c:\\Users\\diego\\AppData\\Local\\Programs\\Python\\Python38\\lib\\site-packages\\pandas_profiling\\model\\missing.py:89: UserWarning: There was an attempt to generate the Count missing values diagrams, but this failed.\n",
      "To hide this warning, disable the calculation\n",
      "(using `df.profile_report(missing_diagrams={\"Count\": False}`)\n",
      "If this is problematic for your use case, please report this as an issue:\n",
      "https://github.com/pandas-profiling/pandas-profiling/issues\n",
      "(include the error message: 'The number of FixedLocator locations (7), usually from a call to set_ticks, does not match the number of ticklabels (89).')\n",
      "  warnings.warn(\n"
     ]
    },
    {
     "data": {
      "application/vnd.jupyter.widget-view+json": {
       "model_id": "bb78f95803d34a678778d6b53bae3a08",
       "version_major": 2,
       "version_minor": 0
      },
      "text/plain": [
       "Generate report structure:   0%|          | 0/1 [00:00<?, ?it/s]"
      ]
     },
     "metadata": {},
     "output_type": "display_data"
    },
    {
     "data": {
      "application/vnd.jupyter.widget-view+json": {
       "model_id": "84487e4215a14c5cba235dcd5061fefd",
       "version_major": 2,
       "version_minor": 0
      },
      "text/plain": [
       "Render HTML:   0%|          | 0/1 [00:00<?, ?it/s]"
      ]
     },
     "metadata": {},
     "output_type": "display_data"
    },
    {
     "data": {
      "application/vnd.jupyter.widget-view+json": {
       "model_id": "2c4aed8144d743c293098eb5b021cc67",
       "version_major": 2,
       "version_minor": 0
      },
      "text/plain": [
       "Export report to file:   0%|          | 0/1 [00:00<?, ?it/s]"
      ]
     },
     "metadata": {},
     "output_type": "display_data"
    },
    {
     "data": {
      "image/png": "[encoded data removed]",
      "text/plain": [
       "<Figure size 720x360 with 3 Axes>"
      ]
     },
     "metadata": {},
     "output_type": "display_data"
    }
   ],
   "source": [
    "# Profile Report\n",
    "profile = ProfileReport(data, title='Phishing Websites', explorative=True)\n",
    "profile.to_file(\"phishing_websites.html\")"
   ]
  },
  {
   "attachments": {},
   "cell_type": "markdown",
   "metadata": {},
   "source": [
    "Las columnas que son constantes, o que no tienen una varianza alta con la columna status son:\n",
    " - ip\n",
    " - nb_www\n",
    " - nb_com\n",
    " - nb_dslash\n",
    " - http_in_path\n",
    " - punycode\n",
    " - port\n",
    " - tld_in_path\n",
    " - tld_in_subdomain\n",
    " - abnormal_subdomain\n",
    " - nb_subdomain\n",
    " - prefix_suffix\n",
    " - random_domain\n",
    " - shortening_service\n",
    " - path_extension\n",
    " - nb_redirection\n",
    " - nb_external_redirection\n",
    " - length_words_raw\n",
    " - char_repeat\n",
    " - shortest_words_raw\n",
    " - shortest_word_host\n",
    " - shortest_word_path\n",
    " - longest_words_raw\n",
    " - longest_word_host\n",
    " - longest_word_path\n",
    " - avg_words_raw\n",
    " - avg_word_host\n",
    " - avg_word_path\n",
    " - phish_hints\n",
    " - domain_in_brand\n",
    " - brand_in_subdomain\n",
    " - brand_in_path\n",
    " - suspecious_tld\n",
    " - statistical_report\n",
    " - ratio_intHyperlinks\n",
    " - ratio_extHyperlinks\n",
    " - ratio_nullHyperlinks\n",
    " - nb_extCSS\n",
    " - ratio_intRedirection\n",
    " - ratio_extRedirection\n",
    " - ratio_intErrors\n",
    " - ratio_extErrors\n",
    " - login_form\n",
    " - external_favicon\n",
    " - links_in_tags\n",
    " - submit_email\n",
    " - ratio_intMedia\n",
    " - ratio_extMedia\n",
    " - sfh\n",
    " - iframe\n",
    " - popup_window\n",
    " - onmouseover\n",
    " - right_clic\n",
    " - empty_title\n",
    " - domain_with_copyright\n",
    " - whois_registered_domain\n",
    " - domain_registration_length\n",
    " - domain_age\n",
    " - web_traffic\n",
    " - dns_record\n",
    " - f1_url_length\n",
    " - f2_hostname_length\n",
    " - f4_number_of_dots\n",
    " - f5_number_of_hyphens\n",
    " - f6_number_of_at\n",
    " - f7_number_of_question_mark\n",
    " - f8_number_of_ampersand\n",
    " - f9_number_of_bar\n",
    " - f10_number_of_equal\n",
    " - f11_number_of_underline\n",
    " - f12_number_of_tilde\n",
    " - f13_number_of_percent\n",
    " - f14_number_of_slash\n",
    " - f15_number_of_ast\n",
    " - f16_number_of_colon\n",
    " - f17_number_of_comma\n",
    " - f18_number_of_semicolon\n",
    " - f19_number_of_dollar\n",
    " - f20_number_of_space\n",
    " - f25_has_https\n",
    " - f26_ratio_of_digits_url\n",
    " - f27_ratio_of_digits_hostname"
   ]
  },
  {
   "attachments": {},
   "cell_type": "markdown",
   "metadata": {},
   "source": [
    "Las columnas que tienen correlacion con 'status' son:\n",
    " - safe_anchor\n",
    " - domain_in_title\n",
    " - google_index\n",
    " - page_rank"
   ]
  },
  {
   "attachments": {},
   "cell_type": "markdown",
   "metadata": {},
   "source": [
    "## Seleccion de caracteristicas"
   ]
  },
  {
   "cell_type": "code",
   "execution_count": 9,
   "metadata": {},
   "outputs": [
    {
     "data": {
      "text/html": [
       "<div>\n",
       "<style scoped>\n",
       "    .dataframe tbody tr th:only-of-type {\n",
       "        vertical-align: middle;\n",
       "    }\n",
       "\n",
       "    .dataframe tbody tr th {\n",
       "        vertical-align: top;\n",
       "    }\n",
       "\n",
       "    .dataframe thead th {\n",
       "        text-align: right;\n",
       "    }\n",
       "</style>\n",
       "<table border=\"1\" class=\"dataframe\">\n",
       "  <thead>\n",
       "    <tr style=\"text-align: right;\">\n",
       "      <th></th>\n",
       "      <th>safe_anchor</th>\n",
       "      <th>domain_in_title</th>\n",
       "      <th>google_index</th>\n",
       "      <th>page_rank</th>\n",
       "      <th>status</th>\n",
       "    </tr>\n",
       "  </thead>\n",
       "  <tbody>\n",
       "    <tr>\n",
       "      <th>0</th>\n",
       "      <td>0.0</td>\n",
       "      <td>0</td>\n",
       "      <td>1</td>\n",
       "      <td>4</td>\n",
       "      <td>1</td>\n",
       "    </tr>\n",
       "    <tr>\n",
       "      <th>1</th>\n",
       "      <td>100.0</td>\n",
       "      <td>1</td>\n",
       "      <td>1</td>\n",
       "      <td>2</td>\n",
       "      <td>0</td>\n",
       "    </tr>\n",
       "    <tr>\n",
       "      <th>2</th>\n",
       "      <td>100.0</td>\n",
       "      <td>1</td>\n",
       "      <td>1</td>\n",
       "      <td>0</td>\n",
       "      <td>0</td>\n",
       "    </tr>\n",
       "    <tr>\n",
       "      <th>3</th>\n",
       "      <td>62.5</td>\n",
       "      <td>1</td>\n",
       "      <td>0</td>\n",
       "      <td>3</td>\n",
       "      <td>1</td>\n",
       "    </tr>\n",
       "    <tr>\n",
       "      <th>4</th>\n",
       "      <td>0.0</td>\n",
       "      <td>0</td>\n",
       "      <td>0</td>\n",
       "      <td>6</td>\n",
       "      <td>1</td>\n",
       "    </tr>\n",
       "  </tbody>\n",
       "</table>\n",
       "</div>"
      ],
      "text/plain": [
       "   safe_anchor  domain_in_title  google_index  page_rank  status\n",
       "0          0.0                0             1          4       1\n",
       "1        100.0                1             1          2       0\n",
       "2        100.0                1             1          0       0\n",
       "3         62.5                1             0          3       1\n",
       "4          0.0                0             0          6       1"
      ]
     },
     "execution_count": 9,
     "metadata": {},
     "output_type": "execute_result"
    }
   ],
   "source": [
    "# keep the features\n",
    "data = data[['safe_anchor', 'domain_in_title', 'google_index', 'page_rank', 'status']]\n",
    "data.head()"
   ]
  },
  {
   "attachments": {},
   "cell_type": "markdown",
   "metadata": {},
   "source": [
    "# Parte 2 - Implementacion"
   ]
  },
  {
   "attachments": {},
   "cell_type": "markdown",
   "metadata": {},
   "source": [
    "## Separacion de datos\n",
    " - Datos de entrenamiento: 55%\n",
    " - Datos de validacion: 15%\n",
    " - Datos de prueba: 30%\n",
    " - Almacene cada dataset en un archivo csv"
   ]
  },
  {
   "cell_type": "code",
   "execution_count": 10,
   "metadata": {},
   "outputs": [],
   "source": [
    "# train 55%, validation 15%, test 30%\n",
    "train, test = train_test_split(data, test_size=0.3, random_state=42)\n",
    "train, val = train_test_split(train, test_size=0.15, random_state=42)\n",
    "# save each dataset as csv\n",
    "train.to_csv('train.csv', index=False)\n",
    "val.to_csv('val.csv', index=False)\n",
    "test.to_csv('test.csv', index=False)"
   ]
  },
  {
   "cell_type": "code",
   "execution_count": 11,
   "metadata": {},
   "outputs": [],
   "source": [
    "target_train = train['status']\n",
    "feature_matrix_train = train.drop('status', axis=1)\n",
    "target_test = test['status']\n",
    "feature_matrix_test = test.drop('status', axis=1)\n",
    "target_val = val['status']\n",
    "feature_matrix_val = val.drop('status', axis=1)"
   ]
  },
  {
   "attachments": {},
   "cell_type": "markdown",
   "metadata": {},
   "source": [
    "## Implementacion"
   ]
  },
  {
   "attachments": {},
   "cell_type": "markdown",
   "metadata": {},
   "source": [
    "### Modelo 1: Decision Tree Classifier"
   ]
  },
  {
   "attachments": {},
   "cell_type": "markdown",
   "metadata": {},
   "source": [
    "Entrenamiento"
   ]
  },
  {
   "cell_type": "code",
   "execution_count": 26,
   "metadata": {},
   "outputs": [
    {
     "data": {
      "text/plain": [
       "array([0, 1, 0, ..., 1, 1, 1], dtype=int64)"
      ]
     },
     "execution_count": 26,
     "metadata": {},
     "output_type": "execute_result"
    }
   ],
   "source": [
    "clf = tree.DecisionTreeClassifier()  # clf means classifier\n",
    "clf = clf.fit(feature_matrix_train, target_train)\n",
    "\n",
    "# Make the prediction\n",
    "target_pred = clf.predict(feature_matrix_val)\n",
    "target_pred"
   ]
  },
  {
   "attachments": {},
   "cell_type": "markdown",
   "metadata": {},
   "source": [
    "#### Modelo 1: Datos de validacion"
   ]
  },
  {
   "attachments": {},
   "cell_type": "markdown",
   "metadata": {},
   "source": [
    "Matriz de confusion"
   ]
  },
  {
   "cell_type": "code",
   "execution_count": 27,
   "metadata": {},
   "outputs": [
    {
     "name": "stdout",
     "output_type": "stream",
     "text": [
      "Accuracy Score 0.9017485428809325\n",
      "Confusion Matrix\n",
      " [[538  51]\n",
      " [ 67 545]]\n"
     ]
    },
    {
     "data": {
      "text/plain": [
       "<AxesSubplot:>"
      ]
     },
     "execution_count": 27,
     "metadata": {},
     "output_type": "execute_result"
    },
    {
     "data": {
      "image/png": "[encoded data removed]",
      "text/plain": [
       "<Figure size 720x504 with 2 Axes>"
      ]
     },
     "metadata": {
      "needs_background": "light"
     },
     "output_type": "display_data"
    }
   ],
   "source": [
    "labels = [\"Verdaderos negativos\",\"Falsos positivos\",\"Falsos negativos\",\"Verdaderos positivos\"]\n",
    "labels = np.asarray(labels).reshape(2,2)\n",
    "c_matrix = metrics.confusion_matrix(target_val, target_pred)\n",
    "df_cm = pd.DataFrame(c_matrix, index = ['True legit','True phishing'],\n",
    "                    columns = ['Predicted legit','Predicted phishing'])\n",
    "print('Accuracy Score', metrics.accuracy_score(target_val, target_pred))\n",
    "print('Confusion Matrix\\n', metrics.confusion_matrix(target_val, target_pred))\n",
    "plt.figure(figsize = (10,7))\n",
    "sns.heatmap(df_cm, annot=labels, fmt=\"\", cmap='Blues')"
   ]
  },
  {
   "attachments": {},
   "cell_type": "markdown",
   "metadata": {},
   "source": [
    " - Precision\n",
    " - Recall\n",
    " - F1-Score"
   ]
  },
  {
   "cell_type": "code",
   "execution_count": 28,
   "metadata": {},
   "outputs": [
    {
     "name": "stdout",
     "output_type": "stream",
     "text": [
      "              precision    recall  f1-score   support\n",
      "\n",
      "       legit       0.89      0.91      0.90       589\n",
      "    phishing       0.91      0.89      0.90       612\n",
      "\n",
      "    accuracy                           0.90      1201\n",
      "   macro avg       0.90      0.90      0.90      1201\n",
      "weighted avg       0.90      0.90      0.90      1201\n",
      "\n"
     ]
    }
   ],
   "source": [
    "print(metrics.classification_report(target_val, target_pred, target_names=['legit', 'phishing']))"
   ]
  },
  {
   "attachments": {},
   "cell_type": "markdown",
   "metadata": {},
   "source": [
    "#### Modelo 1: Datos de prueba"
   ]
  },
  {
   "cell_type": "code",
   "execution_count": 29,
   "metadata": {},
   "outputs": [
    {
     "data": {
      "text/plain": [
       "array([1, 1, 1, ..., 0, 1, 0], dtype=int64)"
      ]
     },
     "execution_count": 29,
     "metadata": {},
     "output_type": "execute_result"
    }
   ],
   "source": [
    "# Make the prediction\n",
    "target_pred = clf.predict(feature_matrix_test)\n",
    "target_pred"
   ]
  },
  {
   "attachments": {},
   "cell_type": "markdown",
   "metadata": {},
   "source": [
    "Matriz de confusion"
   ]
  },
  {
   "cell_type": "code",
   "execution_count": 30,
   "metadata": {},
   "outputs": [
    {
     "name": "stdout",
     "output_type": "stream",
     "text": [
      "Accuracy Score 0.9087197433654126\n",
      "Confusion Matrix\n",
      " [[1554  143]\n",
      " [ 170 1562]]\n"
     ]
    },
    {
     "data": {
      "text/plain": [
       "<AxesSubplot:>"
      ]
     },
     "execution_count": 30,
     "metadata": {},
     "output_type": "execute_result"
    },
    {
     "data": {
      "image/png": "[encoded data removed]",
      "text/plain": [
       "<Figure size 720x504 with 2 Axes>"
      ]
     },
     "metadata": {
      "needs_background": "light"
     },
     "output_type": "display_data"
    }
   ],
   "source": [
    "labels = [\"Verdaderos negativos\",\"Falsos positivos\",\"Falsos negativos\",\"Verdaderos positivos\"]\n",
    "labels = np.asarray(labels).reshape(2,2)\n",
    "c_matrix = metrics.confusion_matrix(target_test, target_pred)\n",
    "df_cm = pd.DataFrame(c_matrix, index = ['True legit','True phishing'],\n",
    "                    columns = ['Predicted legit','Predicted phishing'])\n",
    "print('Accuracy Score', metrics.accuracy_score(target_test, target_pred))\n",
    "print('Confusion Matrix\\n', metrics.confusion_matrix(target_test, target_pred))\n",
    "plt.figure(figsize = (10,7))\n",
    "sns.heatmap(df_cm, annot=labels, fmt=\"\", cmap='Blues')"
   ]
  },
  {
   "attachments": {},
   "cell_type": "markdown",
   "metadata": {},
   "source": [
    " - Precision\n",
    " - Recall\n",
    " - F1-Score"
   ]
  },
  {
   "cell_type": "code",
   "execution_count": 31,
   "metadata": {},
   "outputs": [
    {
     "name": "stdout",
     "output_type": "stream",
     "text": [
      "              precision    recall  f1-score   support\n",
      "\n",
      "       legit       0.90      0.92      0.91      1697\n",
      "    phishing       0.92      0.90      0.91      1732\n",
      "\n",
      "    accuracy                           0.91      3429\n",
      "   macro avg       0.91      0.91      0.91      3429\n",
      "weighted avg       0.91      0.91      0.91      3429\n",
      "\n"
     ]
    }
   ],
   "source": [
    "print(metrics.classification_report(target_test, target_pred, target_names=['legit', 'phishing']))"
   ]
  },
  {
   "attachments": {},
   "cell_type": "markdown",
   "metadata": {},
   "source": [
    "### Modelo 2: Random Forest Classifier"
   ]
  },
  {
   "attachments": {},
   "cell_type": "markdown",
   "metadata": {},
   "source": [
    "Entrenamiento"
   ]
  },
  {
   "cell_type": "code",
   "execution_count": 32,
   "metadata": {},
   "outputs": [
    {
     "data": {
      "text/plain": [
       "RandomForestClassifier()"
      ]
     },
     "execution_count": 32,
     "metadata": {},
     "output_type": "execute_result"
    }
   ],
   "source": [
    "# Entrenar el modelo\n",
    "from sklearn.ensemble import RandomForestClassifier\n",
    "\n",
    "#Create a Gaussian Classifier\n",
    "clf=RandomForestClassifier()\n",
    "\n",
    "#Train the model using the training sets y_pred=clf.predict(X_test)\n",
    "clf.fit(feature_matrix_train, target_train)\n"
   ]
  },
  {
   "cell_type": "code",
   "execution_count": 33,
   "metadata": {},
   "outputs": [
    {
     "data": {
      "text/plain": [
       "array([0, 1, 0, ..., 1, 1, 1], dtype=int64)"
      ]
     },
     "execution_count": 33,
     "metadata": {},
     "output_type": "execute_result"
    }
   ],
   "source": [
    "target_pred=clf.predict(feature_matrix_val)\n",
    "target_pred"
   ]
  },
  {
   "attachments": {},
   "cell_type": "markdown",
   "metadata": {},
   "source": [
    "#### Modelo 2: Datos de validacion"
   ]
  },
  {
   "attachments": {},
   "cell_type": "markdown",
   "metadata": {},
   "source": [
    "Matriz de confusion"
   ]
  },
  {
   "cell_type": "code",
   "execution_count": 34,
   "metadata": {},
   "outputs": [
    {
     "name": "stdout",
     "output_type": "stream",
     "text": [
      "Accuracy Score 0.9075770191507078\n",
      "Confusion Matrix\n",
      " [[535  54]\n",
      " [ 57 555]]\n"
     ]
    },
    {
     "data": {
      "text/plain": [
       "<AxesSubplot:>"
      ]
     },
     "execution_count": 34,
     "metadata": {},
     "output_type": "execute_result"
    },
    {
     "data": {
      "image/png": "[encoded data removed]",
      "text/plain": [
       "<Figure size 720x504 with 2 Axes>"
      ]
     },
     "metadata": {
      "needs_background": "light"
     },
     "output_type": "display_data"
    }
   ],
   "source": [
    "# Matriz de confusión\n",
    "labels = [\"Verdaderos negativos\",\"Falsos positivos\",\"Falsos negativos\",\"Verdaderos positivos\"]\n",
    "labels = np.asarray(labels).reshape(2,2)\n",
    "c_matrix = metrics.confusion_matrix(target_val, target_pred)\n",
    "df_cm = pd.DataFrame(c_matrix, index = ['True legit','True phishing'],\n",
    "                    columns = ['Predicted legit','Predicted phishing'])\n",
    "print('Accuracy Score', metrics.accuracy_score(target_val, target_pred))\n",
    "print('Confusion Matrix\\n', metrics.confusion_matrix(target_val, target_pred))\n",
    "plt.figure(figsize = (10,7))\n",
    "sns.heatmap(df_cm, annot=labels, fmt=\"\", cmap='Blues')"
   ]
  },
  {
   "attachments": {},
   "cell_type": "markdown",
   "metadata": {},
   "source": [
    " - Precision\n",
    " - Recall\n",
    " - F1-Score"
   ]
  },
  {
   "cell_type": "code",
   "execution_count": 35,
   "metadata": {},
   "outputs": [
    {
     "name": "stdout",
     "output_type": "stream",
     "text": [
      "              precision    recall  f1-score   support\n",
      "\n",
      "       legit       0.90      0.91      0.91       589\n",
      "    phishing       0.91      0.91      0.91       612\n",
      "\n",
      "    accuracy                           0.91      1201\n",
      "   macro avg       0.91      0.91      0.91      1201\n",
      "weighted avg       0.91      0.91      0.91      1201\n",
      "\n"
     ]
    }
   ],
   "source": [
    "# Metricas\n",
    "print(metrics.classification_report(target_val, target_pred, target_names=['legit', 'phishing']))"
   ]
  },
  {
   "attachments": {},
   "cell_type": "markdown",
   "metadata": {},
   "source": [
    "#### Modelo 2: Datos de prueba"
   ]
  },
  {
   "cell_type": "code",
   "execution_count": 36,
   "metadata": {},
   "outputs": [
    {
     "data": {
      "text/plain": [
       "array([1, 1, 1, ..., 0, 1, 0], dtype=int64)"
      ]
     },
     "execution_count": 36,
     "metadata": {},
     "output_type": "execute_result"
    }
   ],
   "source": [
    "# predict the target on the test dataset\n",
    "target_pred = clf.predict(feature_matrix_test)\n",
    "target_pred"
   ]
  },
  {
   "attachments": {},
   "cell_type": "markdown",
   "metadata": {},
   "source": [
    "Matriz de confusion"
   ]
  },
  {
   "cell_type": "code",
   "execution_count": 37,
   "metadata": {},
   "outputs": [
    {
     "name": "stdout",
     "output_type": "stream",
     "text": [
      "Accuracy Score 0.9095946340040828\n",
      "Confusion Matrix\n",
      " [[1551  146]\n",
      " [ 164 1568]]\n"
     ]
    },
    {
     "data": {
      "text/plain": [
       "<AxesSubplot:>"
      ]
     },
     "execution_count": 37,
     "metadata": {},
     "output_type": "execute_result"
    },
    {
     "data": {
      "image/png": "[encoded data removed]",
      "text/plain": [
       "<Figure size 720x504 with 2 Axes>"
      ]
     },
     "metadata": {
      "needs_background": "light"
     },
     "output_type": "display_data"
    }
   ],
   "source": [
    "# Matriz de confusión\n",
    "labels = [\"Verdaderos negativos\",\"Falsos positivos\",\"Falsos negativos\",\"Verdaderos positivos\"]\n",
    "labels = np.asarray(labels).reshape(2,2)\n",
    "c_matrix = metrics.confusion_matrix(target_test, target_pred)\n",
    "df_cm = pd.DataFrame(c_matrix, index = ['True legit','True phishing'],\n",
    "                    columns = ['Predicted legit','Predicted phishing'])\n",
    "print('Accuracy Score', metrics.accuracy_score(target_test, target_pred))\n",
    "print('Confusion Matrix\\n', metrics.confusion_matrix(target_test, target_pred))\n",
    "plt.figure(figsize = (10,7))\n",
    "sns.heatmap(df_cm, annot=labels, fmt=\"\", cmap='Blues')"
   ]
  },
  {
   "attachments": {},
   "cell_type": "markdown",
   "metadata": {},
   "source": [
    " - Precision\n",
    " - Recall\n",
    " - F1-Score"
   ]
  },
  {
   "cell_type": "code",
   "execution_count": 38,
   "metadata": {},
   "outputs": [
    {
     "name": "stdout",
     "output_type": "stream",
     "text": [
      "              precision    recall  f1-score   support\n",
      "\n",
      "       legit       0.90      0.91      0.91      1697\n",
      "    phishing       0.91      0.91      0.91      1732\n",
      "\n",
      "    accuracy                           0.91      3429\n",
      "   macro avg       0.91      0.91      0.91      3429\n",
      "weighted avg       0.91      0.91      0.91      3429\n",
      "\n"
     ]
    }
   ],
   "source": [
    "# Metricas\n",
    "print(metrics.classification_report(target_test, target_pred, target_names=['legit', 'phishing']))"
   ]
  },
  {
   "attachments": {},
   "cell_type": "markdown",
   "metadata": {},
   "source": [
    "## Discusion"
   ]
  },
  {
   "attachments": {},
   "cell_type": "markdown",
   "metadata": {},
   "source": [
    "1. ¿Cuál es el impacto de clasificar un sitio legítimo como Phishing?\n",
    "\n",
    "Clasificar un sitio legítimo como phishing si bien es una clasificación incorrecta, esta puede tener incluso una ventaja, la cual es hacer notar a los propietarios del sitio que este tiene características de un sitio de phishing, por lo que pueden tomar medidas para corregirlo. Ahora, el impacto negativo de esta clasificación incorrecta es que el usuario puede no confiar en el sitio y no ingresar a este, lo cual puede ser perjudicial para las visitas, ganancias y posicionamiento del sitio; y del lado del usuario también ya que no tendrá acceso a la información que este sitio le puede brindar, incumpliendo el principio de disponibilidad."
   ]
  },
  {
   "attachments": {},
   "cell_type": "markdown",
   "metadata": {},
   "source": [
    "2. ¿Cuál es el impacto de clasificar un sitio de Phishing como legítimo?\n",
    "\n",
    "Clasificar un sitio de phishing como legítimo no tiene ningún impacto positivo, caer en esta clasificación incorrecta representa un impacto completamente negativo para el usuario ya que se le da la confianza de que el sitio es legítimo, si bien el usuario tiene la última decisión sobre si confiar en el sitio o no, esto influye de gran manera en la decisión del usuario; y por otro lado también se le da paso a los estafadores propietarios del sitio de phishing para continuar actuando de esta manera, conociendo que el sitio no es detectado como phishing y seguir estafando a los usuarios."
   ]
  },
  {
   "attachments": {},
   "cell_type": "markdown",
   "metadata": {},
   "source": [
    "3. En base a las respuestas anteriores, ¿Qué métrica eligiría para comparar modelos similares de clasificación de phishing?\n",
    "\n",
    "Como se mencionó es más importante que un sitio de phishing real no sea clasificado como legítimo, es decir que haya la menor cantidad de falsos negativos, por lo que la métrica que elegiría para comparar modelos similares de clasificación de phishing sería el Recall ya que este nos indica la cantidad de verdaderos positivos que se clasificaron correctamente, es decir, la cantidad de sitios de phishing que fueron clasificados correctamente como phishing."
   ]
  },
  {
   "attachments": {},
   "cell_type": "markdown",
   "metadata": {},
   "source": [
    "4. ¿Qué modelo es mejor para la clasificación de Phishing? Justifique\n",
    "\n",
    "### Decision Tree Classifier:\n",
    "\n",
    "Accuracy Score 0.9087197433654126\n",
    "\n",
    "Confusion Matrix\n",
    " [[1554  143]\n",
    " [ 170 1562]]\n",
    " \n",
    "\n",
    "### Random Forest Classifier:\n",
    "\n",
    "Accuracy Score 0.9095946340040828\n",
    "\n",
    "Confusion Matrix\n",
    " [[1551  146]\n",
    " [ 164 1568]]\n",
    "\n",
    "Dados los resultados, se puede observar que ambos Classifiers dieron resultados bastantes parecidos. Aunque se puede observasr que el Acurracy del Random Forest fue ligeramente mayor al del Decission Tree. Por esto, se podría decir que ambos son eficientes a la hora de clasificar el Phishing, aunque es mejor el Random Forest Classifier"
   ]
  },
  {
   "attachments": {},
   "cell_type": "markdown",
   "metadata": {},
   "source": [
    "5. En base a las métricas obtenidas ¿es necesaria la intervención de una persona humana para tomar la decisión final?\n",
    "\n",
    "Si, ya que se puede ver que fueron bastantes los casos de falsos positivos y falsos negativos y el que el acurracy es de tan solo 0.9, ese 0.1 que falló debe ser revisado ya que esos fallos en que identifique el Phishing pueda hacer que alguien caiga en uno."
   ]
  }
 ],
 "metadata": {
  "kernelspec": {
   "display_name": "Python 3",
   "language": "python",
   "name": "python3"
  },
  "language_info": {
   "codemirror_mode": {
    "name": "ipython",
    "version": 3
   },
   "file_extension": ".py",
   "mimetype": "text/x-python",
   "name": "python",
   "nbconvert_exporter": "python",
   "pygments_lexer": "ipython3",
   "version": "3.8.0"
  },
  "orig_nbformat": 4,
  "vscode": {
   "interpreter": {
    "hash": "74fbae03f09acb54b4b85bc5f11519af67119ba3a464556648626baa681cdd43"
   }
  }
 },
 "nbformat": 4,
 "nbformat_minor": 2
}
